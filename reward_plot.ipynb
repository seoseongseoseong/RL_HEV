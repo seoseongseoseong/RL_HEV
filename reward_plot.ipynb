{
 "cells": [
  {
   "cell_type": "code",
   "execution_count": 1,
   "id": "3c3a6bc6",
   "metadata": {},
   "outputs": [],
   "source": [
    "import pandas as pd\n",
    "import os\n",
    "%matplotlib notebook\n",
    "import ipywidgets as widgets\n",
    "import numpy as np\n",
    "import matplotlib.pyplot as plt\n",
    "from IPython.display import display\n",
    "data_dir = 'mean_reward/'"
   ]
  },
  {
   "cell_type": "code",
   "execution_count": 2,
   "id": "f15bcc5a",
   "metadata": {},
   "outputs": [],
   "source": [
    "batch_columns = ['64', '128', '256', '512']\n",
    "learning_columns = ['1', '2', '3', '4', '5', '6', '7', '8', '9', '10']\n",
    "\n",
    "df = pd.DataFrame(columns=batch_columns)\n",
    "\n",
    "for batch_size in [64, 128, 256, 512]:\n",
    "    sub_df = pd.DataFrame(columns=learning_columns)\n",
    "    \n",
    "    for learning_rate in range(1, 11):\n",
    "        file_name = f'{batch_size}_{learning_rate}.csv'\n",
    "        file_path = os.path.join(data_dir, file_name)\n",
    "\n",
    "        if os.path.exists(file_path):\n",
    "            data = pd.read_csv(file_path, header=None, skiprows=1).iloc[:300, 1]\n",
    "            sub_df[f'{learning_rate}'] = data.values  # 데이터를 sub_df에 추가\n",
    "            \n",
    "    \n",
    "    df[f'{batch_size}'] = sub_df.T.values.tolist()  # sub_df를 df에 추가"
   ]
  },
  {
   "cell_type": "code",
   "execution_count": 3,
   "id": "5a23f211",
   "metadata": {},
   "outputs": [],
   "source": [
    "input_parameters = {}\n",
    "for batch_size in [64, 128, 256, 512]:\n",
    "    for learning_rate in range(1, 11):\n",
    "        parameter_name = f'p{batch_size}_{learning_rate}'\n",
    "        input_parameters[parameter_name] = False  # 초기값은 False로 설정"
   ]
  },
  {
   "cell_type": "code",
   "execution_count": 4,
   "id": "c9766cb1",
   "metadata": {},
   "outputs": [],
   "source": [
    "a = [None]\n",
    "\n",
    "def plot_reward(**kwargs):\n",
    "    plt.plot(a)\n",
    "    for batch_size in [64, 128, 256, 512]:\n",
    "        for learning_rate in range(1, 11):\n",
    "            parameter_name = f'p{batch_size}_{learning_rate}'\n",
    "            if kwargs.get(parameter_name, False):\n",
    "                plt.plot(df[f'{batch_size}'][learning_rate - 1], label=f'{batch_size}_{learning_rate}')\n",
    "    plt.legend()\n",
    "    plt.show()\n",
    "               "
   ]
  },
  {
   "cell_type": "code",
   "execution_count": 5,
   "id": "435bc987",
   "metadata": {
    "scrolled": false
   },
   "outputs": [
    {
     "data": {
      "application/vnd.jupyter.widget-view+json": {
       "model_id": "f7f0f9ad61164920849bd7c3fe295735",
       "version_major": 2,
       "version_minor": 0
      },
      "text/plain": [
       "interactive(children=(Checkbox(value=False, description='p64_1'), Checkbox(value=False, description='p64_2'), …"
      ]
     },
     "metadata": {},
     "output_type": "display_data"
    }
   ],
   "source": [
    "widgets.interactive(plot_reward, **input_parameters)"
   ]
  }
 ],
 "metadata": {
  "kernelspec": {
   "display_name": "Python 3 (ipykernel)",
   "language": "python",
   "name": "python3"
  },
  "language_info": {
   "codemirror_mode": {
    "name": "ipython",
    "version": 3
   },
   "file_extension": ".py",
   "mimetype": "text/x-python",
   "name": "python",
   "nbconvert_exporter": "python",
   "pygments_lexer": "ipython3",
   "version": "3.10.9"
  }
 },
 "nbformat": 4,
 "nbformat_minor": 5
}
